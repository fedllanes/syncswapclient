{
 "cells": [
  {
   "cell_type": "markdown",
   "id": "48cbf2f8-9d0b-40c2-b445-63afe8b54961",
   "metadata": {},
   "source": [
    "### Variables and basic connection"
   ]
  },
  {
   "cell_type": "code",
   "execution_count": 8,
   "id": "b83fce65-a735-498d-bd81-c1ca24bb9c3a",
   "metadata": {},
   "outputs": [],
   "source": [
    "from web3 import Web3\n",
    "from eth_account import Account\n",
    "from syncswap import SyncSwapContract\n",
    "from syncswap.constants import ZKSYNC_PROVIDER_MAIN, SYNCSWAP_ROUTER_ADDRESS\n",
    "from syncswap.tokenpairs import ETH2USDC, USDC2ETH\n",
    "from syncswap.tokens import Token"
   ]
  },
  {
   "cell_type": "code",
   "execution_count": 2,
   "id": "ccf3d85e-d2ca-49a4-b309-37968e0ab83a",
   "metadata": {},
   "outputs": [],
   "source": [
    "web3 = Web3(Web3.HTTPProvider(ZKSYNC_PROVIDER_MAIN))"
   ]
  },
  {
   "cell_type": "code",
   "execution_count": 3,
   "id": "494c0397-cb90-4f63-a161-238c4df21bcf",
   "metadata": {},
   "outputs": [
    {
     "data": {
      "text/plain": [
       "True"
      ]
     },
     "execution_count": 3,
     "metadata": {},
     "output_type": "execute_result"
    }
   ],
   "source": [
    "web3.is_connected()"
   ]
  },
  {
   "cell_type": "code",
   "execution_count": 4,
   "id": "d68a1fe9-6c8b-47c9-8a39-6c09fc1feed7",
   "metadata": {},
   "outputs": [],
   "source": [
    "private_key = # Load private key safely"
   ]
  },
  {
   "cell_type": "code",
   "execution_count": 5,
   "id": "ccd2e3d8-5b02-4d00-8fea-29b973fb18ec",
   "metadata": {},
   "outputs": [],
   "source": [
    "account = Account.from_key(private_key) # Generate our account instance"
   ]
  },
  {
   "cell_type": "code",
   "execution_count": 6,
   "id": "496dcbca-53e7-48e3-b15b-3d1ccb5f1ab3",
   "metadata": {},
   "outputs": [
    {
     "data": {
      "text/plain": [
       "793170416617879"
      ]
     },
     "execution_count": 6,
     "metadata": {},
     "output_type": "execute_result"
    }
   ],
   "source": [
    "web3.eth.get_balance(account.address)"
   ]
  },
  {
   "cell_type": "code",
   "execution_count": 7,
   "id": "a19205d2-e120-447c-8228-0f5a6e69a625",
   "metadata": {},
   "outputs": [],
   "source": [
    "contract = SyncSwapContract(web3, SYNCSWAP_ROUTER_ADDRESS) # Generate our syncswapcontract"
   ]
  },
  {
   "cell_type": "markdown",
   "id": "ec3e8df9-763f-44bc-955e-23b7b998dbb2",
   "metadata": {},
   "source": [
    "### BUY USD FROM ETH"
   ]
  },
  {
   "cell_type": "code",
   "execution_count": null,
   "id": "6643e369-2eb7-49f9-973c-f83e5f6c7b99",
   "metadata": {},
   "outputs": [],
   "source": [
    "amount_to_swap = 10000000000000 "
   ]
  },
  {
   "cell_type": "code",
   "execution_count": null,
   "id": "2a0b932f-d837-44c9-93ff-ececedc1eb50",
   "metadata": {},
   "outputs": [],
   "source": [
    "tx_hash = contract.swap_tokens(account, ETH2USDC, amount_to_swap, gas_multiplier = 1.1)"
   ]
  },
  {
   "cell_type": "code",
   "execution_count": null,
   "id": "4c8f5c90-4287-4eb8-9a9e-68ac47b854b1",
   "metadata": {},
   "outputs": [],
   "source": [
    "web3.eth.wait_for_transaction_receipt(tx_hash)"
   ]
  },
  {
   "cell_type": "markdown",
   "id": "02601e0c-50c8-4c37-b421-a6b121dea0b0",
   "metadata": {},
   "source": [
    "### USDC TO ETH"
   ]
  },
  {
   "cell_type": "code",
   "execution_count": 15,
   "id": "45b71ce9-9095-4c4e-9468-304d78efc99f",
   "metadata": {},
   "outputs": [
    {
     "data": {
      "text/plain": [
       "941407828123772"
      ]
     },
     "execution_count": 15,
     "metadata": {},
     "output_type": "execute_result"
    }
   ],
   "source": [
    "web3.eth.get_balance(account.address)"
   ]
  },
  {
   "cell_type": "code",
   "execution_count": 11,
   "id": "71fba206-c74a-4fd3-98b7-b4776addf4c2",
   "metadata": {},
   "outputs": [
    {
     "data": {
      "text/plain": [
       "587592"
      ]
     },
     "execution_count": 11,
     "metadata": {},
     "output_type": "execute_result"
    }
   ],
   "source": [
    "usdc_token = Token.from_token_name(web3, \"USDC\")\n",
    "usdc_token.balance(account.address)"
   ]
  },
  {
   "cell_type": "code",
   "execution_count": null,
   "id": "c738460f-66e2-40a6-bb54-835976d95090",
   "metadata": {},
   "outputs": [],
   "source": [
    "amount_to_swap = 40000"
   ]
  },
  {
   "cell_type": "code",
   "execution_count": null,
   "id": "0f6543fe-cc93-4fde-9e9e-68806127b294",
   "metadata": {},
   "outputs": [],
   "source": [
    "tx_hash = contract.swap_tokens(account, USDC2ETH, amount_to_swap, gas_multiplier = 1.1) "
   ]
  },
  {
   "cell_type": "code",
   "execution_count": null,
   "id": "03115240-d31b-426c-a6ec-ca9c5f89ac7e",
   "metadata": {},
   "outputs": [],
   "source": [
    "web3.eth.wait_for_transaction_receipt(tx_hash)"
   ]
  },
  {
   "cell_type": "markdown",
   "id": "bf491da6-aa66-464b-a280-d1294fe4726c",
   "metadata": {},
   "source": [
    "### USDC -> USDT"
   ]
  },
  {
   "cell_type": "code",
   "execution_count": 10,
   "id": "eb98a9c3-ada7-4d0e-97e3-f8c7c147fa03",
   "metadata": {},
   "outputs": [],
   "source": [
    "from syncswap.tokenpairs import USDC2USDT, USDT2USDC"
   ]
  },
  {
   "cell_type": "code",
   "execution_count": 12,
   "id": "fb623d77-1629-4a66-a9c8-024bd3d20300",
   "metadata": {},
   "outputs": [
    {
     "data": {
      "text/plain": [
       "399337"
      ]
     },
     "execution_count": 12,
     "metadata": {},
     "output_type": "execute_result"
    }
   ],
   "source": [
    "usdt_token = Token.from_token_name(web3, \"USDT\")\n",
    "usdt_token.balance(account.address)"
   ]
  },
  {
   "cell_type": "code",
   "execution_count": 13,
   "id": "97f95881-3f30-48fb-9e07-537de60faea9",
   "metadata": {},
   "outputs": [],
   "source": [
    "amount_to_swap = 400000"
   ]
  },
  {
   "cell_type": "code",
   "execution_count": 14,
   "id": "907999bc-a231-4cc0-9f14-4ef8d30efdfe",
   "metadata": {},
   "outputs": [],
   "source": [
    "tx_hash = contract.swap_tokens(account, USDC2USDT, amount_to_swap, gas_multiplier = 1.1) "
   ]
  },
  {
   "cell_type": "code",
   "execution_count": null,
   "id": "9929acfb-050b-4a3a-9171-eec488663edc",
   "metadata": {},
   "outputs": [],
   "source": [
    "web3.eth.wait_for_transaction_receipt(tx_hash)"
   ]
  },
  {
   "cell_type": "markdown",
   "id": "f88603a0-4e83-4209-9228-dae161fb736d",
   "metadata": {},
   "source": [
    "### USDT -> USDC"
   ]
  },
  {
   "cell_type": "code",
   "execution_count": 12,
   "id": "dd0201c6-9b29-486c-8630-ed0496aa2e12",
   "metadata": {},
   "outputs": [],
   "source": [
    "amount_to_swap = 200000"
   ]
  },
  {
   "cell_type": "code",
   "execution_count": 13,
   "id": "dbad9b9d-5ee9-4bcd-aaff-15eeb4a78890",
   "metadata": {},
   "outputs": [],
   "source": [
    "tx_hash = contract.swap_tokens(account, USDT2USDC, amount_to_swap, gas_multiplier = 1.1) "
   ]
  },
  {
   "cell_type": "code",
   "execution_count": null,
   "id": "9c9c8d08-4f67-48fc-b848-af08ea7213fd",
   "metadata": {},
   "outputs": [],
   "source": [
    "web3.eth.wait_for_transaction_receipt(tx_hash)"
   ]
  }
 ],
 "metadata": {
  "kernelspec": {
   "display_name": "Python 3 (ipykernel)",
   "language": "python",
   "name": "python3"
  },
  "language_info": {
   "codemirror_mode": {
    "name": "ipython",
    "version": 3
   },
   "file_extension": ".py",
   "mimetype": "text/x-python",
   "name": "python",
   "nbconvert_exporter": "python",
   "pygments_lexer": "ipython3",
   "version": "3.10.12"
  }
 },
 "nbformat": 4,
 "nbformat_minor": 5
}
